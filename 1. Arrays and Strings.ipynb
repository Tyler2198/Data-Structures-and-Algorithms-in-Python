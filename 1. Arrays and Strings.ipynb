{
 "cells": [
  {
   "cell_type": "markdown",
   "id": "a6433d69",
   "metadata": {},
   "source": [
    "# 1. Arrays and Strings"
   ]
  },
  {
   "cell_type": "markdown",
   "id": "a8abda46",
   "metadata": {},
   "source": [
    "## 1.1 Introduction"
   ]
  },
  {
   "cell_type": "markdown",
   "id": "12c82af2",
   "metadata": {},
   "source": [
    "In terms of algorithm problems, arrays (1D) and strings are very similar: they both represent an ordered group of elements. Most algorithm problems will include either an array or string as part of the input.\n",
    "\n",
    "Technically, an array can't be resized. A dynamic array, or list, can be. In the context of algorithm problems, usually when people talk about arrays, they are referring to dynamic arrays.\n",
    "\n",
    "Also, we will be using Python, where arrays are dynamic and mutable and strings are immutable objects.\n",
    "\n",
    "The following is a table of basic operations on arrays and strings and their respective time complexity.\n",
    "\n",
    "![My Local Image](Operations.png)"
   ]
  },
  {
   "cell_type": "markdown",
   "id": "8c98af51",
   "metadata": {},
   "source": [
    "## 1.2 Two Pointers"
   ]
  },
  {
   "cell_type": "markdown",
   "id": "dafaec73",
   "metadata": {},
   "source": [
    "Two pointers is an extremely common technique used to solve array and string problems. It involves having two integer variables that both move along an iterable. \n",
    "\n",
    "There are several ways to implement two pointers. To start, let's look at the following method:\n",
    "\n",
    "__Start the pointers at the edges of the input. Move them towards each other until they meet.__\n",
    "\n",
    "Here's some pseudocode illustrating the concept:"
   ]
  },
  {
   "cell_type": "markdown",
   "id": "c722a1d4",
   "metadata": {},
   "source": [
    "```plaintext\n",
    "fn(arr):\n",
    "    left = 0\n",
    "    right = arr.length - 1\n",
    "\n",
    "    while left < right:\n",
    "        Do some logic here depending on the problem\n",
    "        Do some more logic here to decide on one of the following:\n",
    "            1. left++\n",
    "            2. right--\n",
    "            3. Both left++ and right--\n"
   ]
  },
  {
   "cell_type": "markdown",
   "id": "5134e0ec",
   "metadata": {},
   "source": [
    "The strength of this technique is that we will never have more than $O(n$) iterations for the while loop because the pointers start $n$ away from each other and move at least one step closer in every iteration. Therefore, if we can keep the work inside each iteration at $O(1)$, this technique will result in a linear runtime, which is usually the best possible runtime."
   ]
  },
  {
   "cell_type": "markdown",
   "id": "3ef45dee",
   "metadata": {},
   "source": [
    "### Example 1\n",
    "\n",
    "Given a string __s__, return __true__ if it is a palindrome, __false__ otherwise."
   ]
  },
  {
   "cell_type": "code",
   "execution_count": 1,
   "id": "d2fe6ed3",
   "metadata": {},
   "outputs": [],
   "source": [
    "def check_if_palindrome(s):\n",
    "    i = 0\n",
    "    j = len(s) - 1\n",
    "    \n",
    "    while i < j:\n",
    "        if s[i] == s[j]:\n",
    "            i += 1\n",
    "            j -= 1\n",
    "        else:\n",
    "            return False\n",
    "        \n",
    "    return True"
   ]
  },
  {
   "cell_type": "code",
   "execution_count": 2,
   "id": "71a22448",
   "metadata": {},
   "outputs": [],
   "source": [
    "assert check_if_palindrome(\"aba\") == True\n",
    "assert check_if_palindrome(\"asdndsa\") == True\n",
    "assert check_if_palindrome(\"12357534\") == False\n",
    "assert check_if_palindrome(\"adert\") == False"
   ]
  },
  {
   "cell_type": "markdown",
   "id": "27dda9a7",
   "metadata": {},
   "source": [
    "This algorithm is very efficient as not only does it run in $O(n)$, but it also uses only $O(1)$ space. No matter how big the input is, we always only use two integer variables. "
   ]
  },
  {
   "cell_type": "markdown",
   "id": "d665c62c",
   "metadata": {},
   "source": [
    "### Example 2\n",
    "\n",
    "Given a __sorted__ array of unique integers and a target integer, return __true__ if there exists a pair of numbers that sum to target, __false__ otherwise."
   ]
  },
  {
   "cell_type": "code",
   "execution_count": 3,
   "id": "f30f7fbd",
   "metadata": {},
   "outputs": [],
   "source": [
    "def check_for_target(nums, target):\n",
    "    i = 0\n",
    "    j = len(nums) - 1\n",
    "    \n",
    "    while i < j:\n",
    "        if nums[i] + nums[j] > target:\n",
    "            j -= 1\n",
    "        elif nums[i] + nums[j] < target:\n",
    "            i += 1\n",
    "        else:\n",
    "            return True\n",
    "        \n",
    "    return False"
   ]
  },
  {
   "cell_type": "code",
   "execution_count": 4,
   "id": "da4ea589",
   "metadata": {},
   "outputs": [],
   "source": [
    "assert check_for_target([1, 2, 4, 6, 8, 9, 14, 15], 13) == True"
   ]
  },
  {
   "cell_type": "markdown",
   "id": "0d41d44c",
   "metadata": {},
   "source": [
    "Like in the previous example, this algorithm uses $O(1)$ space and has a time complexity of $O(n)$. This two pointers method works here due to the fact that the array of integers is already sorted in increasing order."
   ]
  },
  {
   "cell_type": "markdown",
   "id": "4abd02bf",
   "metadata": {},
   "source": [
    "## 1.3 Another way to use two pointers"
   ]
  },
  {
   "cell_type": "markdown",
   "id": "ef68e74e",
   "metadata": {},
   "source": [
    "The following method is applicable when the problem has two iterables in the input, for example, two arrays.\n",
    "\n",
    "__Move along both inputs simultaneously until all elements have been checked.__\n",
    "\n",
    "Here's some pseudocode illustrating the concept:"
   ]
  },
  {
   "cell_type": "markdown",
   "id": "3dabed86",
   "metadata": {},
   "source": [
    "```plaintext\n",
    "fn(arr1, arr2):\n",
    "    i = j = 0\n",
    "    while i < arr1.length AND j < arr2.length:\n",
    "        Do some logic here depending on the problem\n",
    "        Do some more logic here to decide on one of the following:\n",
    "            1. i++\n",
    "            2. j++\n",
    "            3. Both i++ and j++\n",
    "\n",
    "    // Step 4: make sure both iterables are exhausted\n",
    "    // Note that only one of these loops would run\n",
    "    while i < arr1.length:\n",
    "        Do some logic here depending on the problem\n",
    "        i++\n",
    "\n",
    "    while j < arr2.length:\n",
    "        Do some logic here depending on the problem\n",
    "        j++\n",
    "        "
   ]
  },
  {
   "cell_type": "markdown",
   "id": "32632bc9",
   "metadata": {},
   "source": [
    "Similar to the first method we looked at, this method will have a linear time complexity of $O(n+m)$ if the work inside the while loop is $O(1)$."
   ]
  },
  {
   "cell_type": "markdown",
   "id": "af376e4e",
   "metadata": {},
   "source": [
    "### Example 3\n",
    "\n",
    "Given two sorted integer arrays __arr1__ and __arr2__, return a new array that combines both of them and is also sorted."
   ]
  },
  {
   "cell_type": "code",
   "execution_count": 5,
   "id": "25c1935b",
   "metadata": {},
   "outputs": [],
   "source": [
    "def combine(arr1, arr2):\n",
    "    i,j = 0,0\n",
    "    combined_sorted_array = []\n",
    "    \n",
    "    while i < len(arr1) and j < len(arr2):\n",
    "        if arr1[i] <= arr2[j]:\n",
    "            combined_sorted_array.append(arr1[i])\n",
    "            i += 1\n",
    "        else:\n",
    "            combined_sorted_array.append(arr2[j])\n",
    "            j += 1\n",
    "            \n",
    "    while i < len(arr1):\n",
    "        combined_sorted_array.append(arr1[i])\n",
    "        i += 1\n",
    "        \n",
    "    while j < len(arr2):\n",
    "        combined_sorted_array.append(arr2[j])\n",
    "        j += 1\n",
    "        \n",
    "    return combined_sorted_array"
   ]
  },
  {
   "cell_type": "code",
   "execution_count": 6,
   "id": "fc6fc150",
   "metadata": {},
   "outputs": [
    {
     "data": {
      "text/plain": [
       "[1, 3, 4, 5, 6, 7, 20]"
      ]
     },
     "execution_count": 6,
     "metadata": {},
     "output_type": "execute_result"
    }
   ],
   "source": [
    "combine([1,4,7,20], [3,5,6])"
   ]
  },
  {
   "cell_type": "markdown",
   "id": "1003f651",
   "metadata": {},
   "source": [
    "### Example 4\n",
    "\n",
    "Given two strings __s__ and __t__, return __true__ if __s__ is a subsequence of __t__, or __false__ otherwise."
   ]
  },
  {
   "cell_type": "code",
   "execution_count": 7,
   "id": "5dd2f471",
   "metadata": {},
   "outputs": [],
   "source": [
    "def isSubsequence(s,t):\n",
    "    i,j = 0,0\n",
    "    \n",
    "    while i < len(s) and j < len(t):\n",
    "        if s[i] == t[j]:\n",
    "            i += 1\n",
    "            j += 1\n",
    "        else:\n",
    "            j += 1\n",
    "            \n",
    "    return i == len(s)"
   ]
  },
  {
   "cell_type": "code",
   "execution_count": 8,
   "id": "e57c2407",
   "metadata": {},
   "outputs": [],
   "source": [
    "assert isSubsequence(\"acd\", \"abcdef\") == True\n",
    "assert isSubsequence(\"adc\", \"abcdef\") == False\n",
    "assert isSubsequence(\"adcsdfgr\", \"abcdef\") == False"
   ]
  },
  {
   "cell_type": "markdown",
   "id": "1a57303f",
   "metadata": {},
   "source": [
    "## Practice Problem 1: Reverse String"
   ]
  },
  {
   "cell_type": "markdown",
   "id": "904fb19a",
   "metadata": {},
   "source": [
    "Write a function that reverses a string. The input string is given as an array of characters __s__. "
   ]
  },
  {
   "cell_type": "code",
   "execution_count": 9,
   "id": "22c389fb",
   "metadata": {},
   "outputs": [],
   "source": [
    "def reverseString(s):\n",
    "    i = 0\n",
    "    j = len(s) - 1\n",
    "    \n",
    "    while i < j:\n",
    "        s[i], s[j] = s[j], s[i]\n",
    "        i += 1\n",
    "        j -= 1\n",
    "    \n",
    "    return s"
   ]
  },
  {
   "cell_type": "code",
   "execution_count": 10,
   "id": "02d03a8c",
   "metadata": {},
   "outputs": [
    {
     "name": "stdout",
     "output_type": "stream",
     "text": [
      "['o', 'l', 'l', 'e', 'H']\n"
     ]
    }
   ],
   "source": [
    "s = ['H', 'e', 'l', 'l', 'o']\n",
    "s = reverseString(['H', 'e', 'l', 'l', 'o'])\n",
    "print(s)"
   ]
  },
  {
   "cell_type": "markdown",
   "id": "f40fb2b3",
   "metadata": {},
   "source": [
    "## Practice Problem 2: Squares of a Sorted Array"
   ]
  },
  {
   "cell_type": "markdown",
   "id": "8fd6ee65",
   "metadata": {},
   "source": [
    "Given an integer array __nums__ sorted in __non-decreasing__ order, return an array of the __squares of each number__ sorted in _non-decreasing order_.\n",
    "\n",
    "The following algorithm will have a time complexity of order $O(n)$ and a space complexity of order $O(n)$ due to the fact that we are returning a new sorted array of length $n$."
   ]
  },
  {
   "cell_type": "code",
   "execution_count": 17,
   "id": "9bc1d592",
   "metadata": {},
   "outputs": [],
   "source": [
    "def sortedSquares(nums):\n",
    "    out = []\n",
    "    \n",
    "    if nums[-1] < 0:\n",
    "        i = len(nums) - 1\n",
    "        while i >= 0:\n",
    "            out.append(nums[i] ** 2)\n",
    "            i -= 1\n",
    "        return out\n",
    "            \n",
    "    if nums[0] >= 0:\n",
    "        i = 0\n",
    "        while i < len(nums):\n",
    "            out.append(nums[i] ** 2)\n",
    "            i += 1\n",
    "        return out\n",
    "            \n",
    "    i = len(nums) - 1\n",
    "    while nums[i] >= 0:\n",
    "        i -= 1\n",
    "    j = i\n",
    "    k = i + 1\n",
    "    while j >= 0 and k < len(nums):\n",
    "        if nums[j]**2 <= nums[k]**2:\n",
    "            out.append(nums[j]**2)\n",
    "            j -= 1\n",
    "        else:\n",
    "            out.append(nums[k]**2)\n",
    "            k += 1\n",
    "            \n",
    "    while j >= 0:\n",
    "        out.append(nums[j]**2)\n",
    "        j -= 1\n",
    "        \n",
    "    while k < len(nums):\n",
    "        out.append(nums[k]**2)\n",
    "        k += 1\n",
    "        \n",
    "    return out       "
   ]
  },
  {
   "cell_type": "code",
   "execution_count": 18,
   "id": "b61db2ff",
   "metadata": {},
   "outputs": [
    {
     "data": {
      "text/plain": [
       "[0, 1, 4, 9, 16, 36]"
      ]
     },
     "execution_count": 18,
     "metadata": {},
     "output_type": "execute_result"
    }
   ],
   "source": [
    "sortedSquares([-3,-1,0,2,4,6])"
   ]
  },
  {
   "cell_type": "code",
   "execution_count": 19,
   "id": "cd8511d6",
   "metadata": {},
   "outputs": [
    {
     "data": {
      "text/plain": [
       "[1, 1, 1, 4, 4, 4, 9, 16, 25, 36]"
      ]
     },
     "execution_count": 19,
     "metadata": {},
     "output_type": "execute_result"
    }
   ],
   "source": [
    "sortedSquares([-5,-3,-1,1,1,2,2,2,4,6])"
   ]
  },
  {
   "cell_type": "code",
   "execution_count": 20,
   "id": "27cb27f4",
   "metadata": {},
   "outputs": [
    {
     "data": {
      "text/plain": [
       "[25]"
      ]
     },
     "execution_count": 20,
     "metadata": {},
     "output_type": "execute_result"
    }
   ],
   "source": [
    "sortedSquares([-5])"
   ]
  },
  {
   "cell_type": "markdown",
   "id": "de545f67",
   "metadata": {},
   "source": [
    "## 1.4 Sliding Windows"
   ]
  },
  {
   "cell_type": "markdown",
   "id": "f2c94c93",
   "metadata": {},
   "source": [
    "Sliding window is another common approach to solving problems related to arrays. A sliding window is actually implemented using two pointers! Before we start, we need to talk about the concept of a __subarray__. Given an array, a subarray is a contiguous section of the array. All the elements must be adjacent to each other in the original array and in their original order.\n",
    "\n",
    "There is a very common group of problems involving subarrays that can be solved efficiently with sliding window. Let's talk about how to identify these problems.\n",
    "\n",
    "First, the problem will either explicitly or implicitly define criteria that make a subarray \"valid\". There are 2 components regarding what makes a subarray valid:\n",
    "\n",
    "- A constraint metric. This is some attribute of a subarray. It could be the sum, the number of unique elements, the frequency of a specific element, or any other attribute.\n",
    "- A numeric restriction on the constraint metric. This is what the constraint metric should be for a subarray to be considered valid.\n",
    "\n",
    "For example, let's say a problem declares a subarray is valid if it has a sum less than or equal to 10.\n",
    "\n",
    "Second, the problem will ask you to find valid subarrays in some way.\n",
    "\n",
    "- The most common task you will see is finding the best valid subarray. The problem will define what makes a subarray better than another. For example, a problem might ask you to find the longest valid subarray.\n",
    "\n",
    "- Another common task is finding the number of valid subarrays. We will take a look at this later in the article.\n",
    "\n",
    "Here is a preview of some of the example problems that we will look at in this article, to help you better understand what sliding window problems look like:\n",
    "\n",
    "- Find the longest subarray with a sum less than or equal to k\n",
    "- Find the longest substring that has at most one \"0\"\n",
    "- Find the number of subarrays that have a product less than k"
   ]
  },
  {
   "cell_type": "markdown",
   "id": "c8ed2091",
   "metadata": {},
   "source": [
    "### Example 1"
   ]
  },
  {
   "cell_type": "markdown",
   "id": "ae579e67",
   "metadata": {},
   "source": [
    "Given an array of positive integers __nums__ and an integer __k__, find the length of the longest subarray whose sum is less than or equal to __k__. This is the problem we have been talking about above. We will now formally solve it."
   ]
  },
  {
   "cell_type": "code",
   "execution_count": 4,
   "id": "0314ed0b",
   "metadata": {},
   "outputs": [],
   "source": [
    "def find_length(nums, k):\n",
    "    left = 0\n",
    "    curr = 0\n",
    "    answer = 0\n",
    "    \n",
    "    for right in range(len(nums)):\n",
    "        curr += nums[right]\n",
    "        \n",
    "        while curr > k:\n",
    "            curr -= nums[left]\n",
    "            left += 1\n",
    "            \n",
    "        answer = max(answer, right - left + 1)\n",
    "\n",
    "    return answer"
   ]
  },
  {
   "cell_type": "code",
   "execution_count": 5,
   "id": "1601f7bf",
   "metadata": {},
   "outputs": [
    {
     "data": {
      "text/plain": [
       "4"
      ]
     },
     "execution_count": 5,
     "metadata": {},
     "output_type": "execute_result"
    }
   ],
   "source": [
    "find_length([3, 1, 2, 7, 4, 2, 1, 1, 5], 8)"
   ]
  },
  {
   "cell_type": "markdown",
   "id": "f2c12a44",
   "metadata": {},
   "source": [
    "### Example 2"
   ]
  },
  {
   "cell_type": "markdown",
   "id": "76375ca8",
   "metadata": {},
   "source": [
    "You are given a binary string __s__ (a string containing only \"0\" and \"1\"). You may choose up to one \"0\" and flip it to a \"1\". What is the length of the longest substring achievable that contains only \"1\"?\n",
    "\n",
    "For example, given $s = \"1101100111\"$, the answer is 5. If you perform the flip at index 2, the string becomes $1111100111$.\n",
    "\n",
    "Because the string can only contain \"1\" and \"0\", another way to look at this problem is \"what is the longest substring that contains at most one \"0\"?\"."
   ]
  },
  {
   "cell_type": "code",
   "execution_count": 8,
   "id": "4ba40930",
   "metadata": {},
   "outputs": [],
   "source": [
    "def find_length(s):\n",
    "    left = 0\n",
    "    zero_curr = 0\n",
    "    ans = 0\n",
    "    \n",
    "    for right in range(len(s)):\n",
    "        if s[right] == '0':\n",
    "            zero_curr += 1\n",
    "              \n",
    "        while zero_curr > 1:\n",
    "            if s[left] == '1':\n",
    "                left += 1\n",
    "            else:\n",
    "                zero_curr -= 1\n",
    "                left += 1\n",
    "                \n",
    "        ans = max(ans, right - left + 1)\n",
    "        \n",
    "    return ans"
   ]
  },
  {
   "cell_type": "code",
   "execution_count": 9,
   "id": "4036f6d0",
   "metadata": {},
   "outputs": [
    {
     "data": {
      "text/plain": [
       "5"
      ]
     },
     "execution_count": 9,
     "metadata": {},
     "output_type": "execute_result"
    }
   ],
   "source": [
    "find_length(\"1101100111\")"
   ]
  },
  {
   "cell_type": "markdown",
   "id": "a09e6d9f",
   "metadata": {},
   "source": [
    "## Number of Subarrays"
   ]
  },
  {
   "cell_type": "markdown",
   "id": "8f6b2e4a",
   "metadata": {},
   "source": [
    "### Example 3"
   ]
  },
  {
   "cell_type": "markdown",
   "id": "a2663103",
   "metadata": {},
   "source": [
    "Given an array of positive integers nums and an integer __k__, return the number of subarrays where the product of all the elements in the subarray is strictly less than __k__.\n",
    "\n",
    "For example, given the input $nums = [10, 5, 2, 6]$, $k = 100$, the answer is 8. The subarrays with products less than k are:\n",
    "\n",
    "$[10], [5], [2], [6], [10, 5], [5, 2], [2, 6], [5, 2, 6]$"
   ]
  },
  {
   "cell_type": "code",
   "execution_count": 12,
   "id": "c2ff8d67",
   "metadata": {},
   "outputs": [],
   "source": [
    "def numSubarrayProductLessThanK(nums, k):\n",
    "    if k <= 1:\n",
    "        return 0\n",
    "    \n",
    "    left = 0\n",
    "    curr = 1\n",
    "    ans = 0\n",
    "    \n",
    "    for right in range(len(nums)):\n",
    "        curr *= nums[right]\n",
    "        while curr >= 100:\n",
    "            curr //= nums[left]\n",
    "            left += 1\n",
    "            \n",
    "        ans += right - left + 1\n",
    "        \n",
    "    return ans"
   ]
  },
  {
   "cell_type": "code",
   "execution_count": 13,
   "id": "4e455371",
   "metadata": {},
   "outputs": [
    {
     "data": {
      "text/plain": [
       "8"
      ]
     },
     "execution_count": 13,
     "metadata": {},
     "output_type": "execute_result"
    }
   ],
   "source": [
    "numSubarrayProductLessThanK([10,5,2,6], 8)"
   ]
  },
  {
   "cell_type": "markdown",
   "id": "ecbba120",
   "metadata": {},
   "source": [
    "## Fixed Window Size"
   ]
  },
  {
   "cell_type": "markdown",
   "id": "46eb045e",
   "metadata": {},
   "source": [
    "In the examples we looked at above, our window size was dynamic. We tried to expand it to the right as much as we could while keeping the window within some constraint and removed elements from the left when the constraint was violated. Sometimes, a problem will specify a fixed length k.\n",
    "\n",
    "These problems are easy because the difference between any two adjacent windows is only two elements (we add one element on the right and remove one element on the left to maintain the length)."
   ]
  },
  {
   "cell_type": "markdown",
   "id": "03546a2e",
   "metadata": {},
   "source": [
    "### Example 4"
   ]
  },
  {
   "cell_type": "markdown",
   "id": "1cae48e9",
   "metadata": {},
   "source": [
    "Given an integer array __nums__ and an integer __k__, find the sum of the subarray with the largest sum whose length is __k__."
   ]
  },
  {
   "cell_type": "code",
   "execution_count": 14,
   "id": "777e0982",
   "metadata": {},
   "outputs": [],
   "source": [
    "def find_best_subarray(nums, k):\n",
    "    curr = 0\n",
    "    for i in range(k):\n",
    "        curr += nums[i]\n",
    "    \n",
    "    ans = curr\n",
    "    for i in range(k, len(nums)):\n",
    "        curr += nums[i] - nums[i - k]\n",
    "        ans = max(ans, curr)\n",
    "    \n",
    "    return ans"
   ]
  },
  {
   "cell_type": "markdown",
   "id": "dae05174",
   "metadata": {},
   "source": [
    "## Practice Problem 1: Maximum Average Subarray I"
   ]
  },
  {
   "cell_type": "markdown",
   "id": "f560b53e",
   "metadata": {},
   "source": [
    "You are given an integer array nums consisting of n elements, and an integer k.\n",
    "\n",
    "Find a contiguous subarray whose length is equal to k that has the maximum average value and return this value. Any answer with a calculation error less than $10^{-5}$ will be accepted."
   ]
  },
  {
   "cell_type": "code",
   "execution_count": 15,
   "id": "a86d9ceb",
   "metadata": {},
   "outputs": [],
   "source": [
    "def maximum_average_subarray(nums, k):\n",
    "    curr = 0\n",
    "    for i in range(0, k):\n",
    "        curr += nums[i]\n",
    "    curr /= k\n",
    "    ans = curr\n",
    "    \n",
    "    for j in range(k, len(nums)):\n",
    "        curr += nums[j]/k - nums[j - k]/k\n",
    "        ans = max(ans, curr)\n",
    "        \n",
    "    return ans"
   ]
  },
  {
   "cell_type": "markdown",
   "id": "d8b37df2",
   "metadata": {},
   "source": [
    "## Practice Problem 2: Max Consecutive Ones III"
   ]
  },
  {
   "cell_type": "markdown",
   "id": "8fb96c27",
   "metadata": {},
   "source": [
    "Given a binary array __nums__ and an integer __k__, return the maximum number of consecutive 1's in the array if you can flip at most __k__ 0's."
   ]
  },
  {
   "cell_type": "code",
   "execution_count": 20,
   "id": "892dc95b",
   "metadata": {},
   "outputs": [],
   "source": [
    "def max_consecutive_ones(nums, k):\n",
    "    left = 0\n",
    "    curr = 0\n",
    "    ans = 0\n",
    "    \n",
    "    for right in range(len(nums)):\n",
    "        if nums[right] == 0:\n",
    "            curr += 1\n",
    "        while curr > k:\n",
    "            if nums[left] == 0:\n",
    "                left += 1\n",
    "                curr -= 1\n",
    "            else:\n",
    "                left += 1\n",
    "        ans = max(ans, right - left + 1)\n",
    "        \n",
    "    return ans"
   ]
  },
  {
   "cell_type": "code",
   "execution_count": 21,
   "id": "096d6f36",
   "metadata": {},
   "outputs": [
    {
     "data": {
      "text/plain": [
       "6"
      ]
     },
     "execution_count": 21,
     "metadata": {},
     "output_type": "execute_result"
    }
   ],
   "source": [
    "max_consecutive_ones([1,1,1,0,0,0,1,1,1,1,0], 2)"
   ]
  },
  {
   "cell_type": "code",
   "execution_count": 22,
   "id": "24b7f670",
   "metadata": {},
   "outputs": [
    {
     "data": {
      "text/plain": [
       "10"
      ]
     },
     "execution_count": 22,
     "metadata": {},
     "output_type": "execute_result"
    }
   ],
   "source": [
    "max_consecutive_ones([0,0,1,1,0,0,1,1,1,0,1,1,0,0,0,1,1,1,1], 3)"
   ]
  },
  {
   "cell_type": "markdown",
   "id": "d1719feb",
   "metadata": {},
   "source": [
    "## 1.5 Prefix Sum"
   ]
  },
  {
   "cell_type": "markdown",
   "id": "fa4d8e94",
   "metadata": {},
   "source": [
    "Prefix sum is a technique that can be used on arrays (of numbers). The idea is to create an array prefix where $\\text{prefix}[i]$ is the sum of all elements up to the index i (inclusive). For example, given $\\text{nums} = [5, 2, 1, 6, 3, 8]$, we would have $\\text{prefix} = [5, 7, 8, 14, 17, 25]$.\n",
    "\n",
    "Building a prefix sum is very simple. Here's some pseudocode:"
   ]
  },
  {
   "cell_type": "markdown",
   "id": "701da98f",
   "metadata": {},
   "source": [
    "```plaintext\n",
    "Given an array nums,\n",
    "\n",
    "prefix = [nums[0]]\n",
    "for (int i = 1; i < nums.length; i++)\n",
    "    prefix.append(nums[i] + prefix[prefix.length - 1])\n",
    "    "
   ]
  },
  {
   "cell_type": "markdown",
   "id": "6a9cce05",
   "metadata": {},
   "source": [
    "Building a prefix sum is a form of pre-processing. Pre-processing is a useful strategy in a variety of problems where we store pre-computed data in a data structure before running the main logic of our algorithm. While it takes some time to pre-process, it's an investment that will save us a huge amount of time during the main parts of the algorithm."
   ]
  },
  {
   "cell_type": "markdown",
   "id": "7dc1cc09",
   "metadata": {},
   "source": [
    "### Example 1"
   ]
  },
  {
   "cell_type": "markdown",
   "id": "2f5aa6a7",
   "metadata": {},
   "source": [
    "Given an integer array __nums__, an array queries where $\\text{queries}[i] = [x, y]$ and an integer __limit__, return a boolean array that represents the answer to each query. A query is __true__ if the sum of the subarray from x to y is less than __limit__, or __false__ otherwise.\n",
    "\n",
    "For example, given $\\text{nums} = [1, 6, 3, 2, 7, 2]$, $\\text{queries} = [[0, 3], [2, 5], [2, 4]]$, and $\\text{limit} = 13$, the answer is [true, false, true]. For each query, the subarray sums are $[12, 14, 12]$."
   ]
  },
  {
   "cell_type": "code",
   "execution_count": 6,
   "id": "7c042b39",
   "metadata": {},
   "outputs": [],
   "source": [
    "def answer_queries(nums, queries, limit):\n",
    "    prefix = [nums[0]]\n",
    "    for i in range(1, len(nums)):\n",
    "        prefix.append(prefix[i-1] + nums[i])\n",
    "        \n",
    "    out = []\n",
    "    for i, j in queries:\n",
    "        out.append((prefix[j] - prefix[i] + nums[i]) <= limit)\n",
    "    return out"
   ]
  },
  {
   "cell_type": "code",
   "execution_count": 7,
   "id": "607a6006",
   "metadata": {},
   "outputs": [
    {
     "data": {
      "text/plain": [
       "[True, False, True]"
      ]
     },
     "execution_count": 7,
     "metadata": {},
     "output_type": "execute_result"
    }
   ],
   "source": [
    "answer_queries([1,6,3,2,7,2], [[0,3],[2,5],[2,4]], 13)"
   ]
  },
  {
   "cell_type": "markdown",
   "id": "abce01cf",
   "metadata": {},
   "source": [
    "### Example 2"
   ]
  },
  {
   "cell_type": "markdown",
   "id": "ff4e645a",
   "metadata": {},
   "source": [
    "Given an integer array __nums__, find the number of ways to split the array into two parts so that the first section has a sum greater than or equal to the sum of the second section. The second section should have at least one number."
   ]
  },
  {
   "cell_type": "code",
   "execution_count": 10,
   "id": "c29ec5ab",
   "metadata": {},
   "outputs": [],
   "source": [
    "def waysToSplitArray(nums):\n",
    "    prefix = [nums[0]]\n",
    "    for i in range(1, len(nums)):\n",
    "        prefix.append(prefix[i-1] + nums[i])\n",
    "        \n",
    "    out = 0\n",
    "    for i in range(len(prefix) - 1):\n",
    "        if prefix[i] >= prefix[-1] - prefix[i]:\n",
    "            out += 1\n",
    "    return out"
   ]
  },
  {
   "cell_type": "code",
   "execution_count": 11,
   "id": "3aa4dc83",
   "metadata": {},
   "outputs": [
    {
     "data": {
      "text/plain": [
       "1"
      ]
     },
     "execution_count": 11,
     "metadata": {},
     "output_type": "execute_result"
    }
   ],
   "source": [
    "waysToSplitArray([1,2,3,4])"
   ]
  },
  {
   "cell_type": "code",
   "execution_count": 12,
   "id": "013ed7e8",
   "metadata": {},
   "outputs": [
    {
     "data": {
      "text/plain": [
       "2"
      ]
     },
     "execution_count": 12,
     "metadata": {},
     "output_type": "execute_result"
    }
   ],
   "source": [
    "waysToSplitArray([10,4,-8,7])"
   ]
  },
  {
   "cell_type": "code",
   "execution_count": null,
   "id": "51e4c03b",
   "metadata": {},
   "outputs": [],
   "source": []
  }
 ],
 "metadata": {
  "kernelspec": {
   "display_name": "Python 3",
   "language": "python",
   "name": "python3"
  },
  "language_info": {
   "codemirror_mode": {
    "name": "ipython",
    "version": 3
   },
   "file_extension": ".py",
   "mimetype": "text/x-python",
   "name": "python",
   "nbconvert_exporter": "python",
   "pygments_lexer": "ipython3",
   "version": "3.8.8"
  }
 },
 "nbformat": 4,
 "nbformat_minor": 5
}
