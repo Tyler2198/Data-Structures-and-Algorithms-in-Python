{
 "cells": [
  {
   "cell_type": "markdown",
   "id": "a6433d69",
   "metadata": {},
   "source": [
    "# 1. Arrays and Strings"
   ]
  },
  {
   "cell_type": "markdown",
   "id": "a8abda46",
   "metadata": {},
   "source": [
    "## 1.1 Introduction"
   ]
  },
  {
   "cell_type": "markdown",
   "id": "12c82af2",
   "metadata": {},
   "source": [
    "In terms of algorithm problems, arrays (1D) and strings are very similar: they both represent an ordered group of elements. Most algorithm problems will include either an array or string as part of the input.\n",
    "\n",
    "Technically, an array can't be resized. A dynamic array, or list, can be. In the context of algorithm problems, usually when people talk about arrays, they are referring to dynamic arrays.\n",
    "\n",
    "Also, we will be using Python, where arrays are dynamic and mutable and strings are immutable objects.\n",
    "\n",
    "The following is a table of basic operations on arrays and strings and their respective time complexity.\n",
    "\n",
    "![My Local Image](Operations.png)"
   ]
  },
  {
   "cell_type": "markdown",
   "id": "8c98af51",
   "metadata": {},
   "source": [
    "## 1.2 Two Pointers"
   ]
  },
  {
   "cell_type": "markdown",
   "id": "dafaec73",
   "metadata": {},
   "source": [
    "Two pointers is an extremely common technique used to solve array and string problems. It involves having two integer variables that both move along an iterable. \n",
    "\n",
    "There are several ways to implement two pointers. To start, let's look at the following method:\n",
    "\n",
    "__Start the pointers at the edges of the input. Move them towards each other until they meet.__\n",
    "\n",
    "Here's some pseudocode illustrating the concept:"
   ]
  },
  {
   "cell_type": "markdown",
   "id": "c722a1d4",
   "metadata": {},
   "source": [
    "```plaintext\n",
    "fn(arr):\n",
    "    left = 0\n",
    "    right = arr.length - 1\n",
    "\n",
    "    while left < right:\n",
    "        Do some logic here depending on the problem\n",
    "        Do some more logic here to decide on one of the following:\n",
    "            1. left++\n",
    "            2. right--\n",
    "            3. Both left++ and right--\n"
   ]
  },
  {
   "cell_type": "markdown",
   "id": "5134e0ec",
   "metadata": {},
   "source": [
    "The strength of this technique is that we will never have more than $O(n$) iterations for the while loop because the pointers start $n$ away from each other and move at least one step closer in every iteration. Therefore, if we can keep the work inside each iteration at $O(1)$, this technique will result in a linear runtime, which is usually the best possible runtime."
   ]
  },
  {
   "cell_type": "markdown",
   "id": "3ef45dee",
   "metadata": {},
   "source": [
    "### Example 1\n",
    "\n",
    "Given a string __s__, return __true__ if it is a palindrome, __false__ otherwise."
   ]
  },
  {
   "cell_type": "code",
   "execution_count": 1,
   "id": "d2fe6ed3",
   "metadata": {},
   "outputs": [],
   "source": [
    "def check_if_palindrome(s):\n",
    "    i = 0\n",
    "    j = len(s) - 1\n",
    "    \n",
    "    while i < j:\n",
    "        if s[i] == s[j]:\n",
    "            i += 1\n",
    "            j -= 1\n",
    "        else:\n",
    "            return False\n",
    "        \n",
    "    return True"
   ]
  },
  {
   "cell_type": "code",
   "execution_count": 5,
   "id": "71a22448",
   "metadata": {},
   "outputs": [],
   "source": [
    "assert check_if_palindrome(\"aba\") == True\n",
    "assert check_if_palindrome(\"asdndsa\") == True\n",
    "assert check_if_palindrome(\"12357534\") == False\n",
    "assert check_if_palindrome(\"adert\") == False"
   ]
  },
  {
   "cell_type": "markdown",
   "id": "27dda9a7",
   "metadata": {},
   "source": [
    "This algorithm is very efficient as not only does it run in $O(n)$, but it also uses only $O(1)$ space. No matter how big the input is, we always only use two integer variables. "
   ]
  },
  {
   "cell_type": "markdown",
   "id": "d665c62c",
   "metadata": {},
   "source": [
    "### Example 2\n",
    "\n",
    "Given a __sorted__ array of unique integers and a target integer, return __true__ if there exists a pair of numbers that sum to target, __false__ otherwise."
   ]
  },
  {
   "cell_type": "code",
   "execution_count": 6,
   "id": "f30f7fbd",
   "metadata": {},
   "outputs": [],
   "source": [
    "def check_for_target(nums, target):\n",
    "    i = 0\n",
    "    j = len(nums) - 1\n",
    "    \n",
    "    while i < j:\n",
    "        if nums[i] + nums[j] > target:\n",
    "            j -= 1\n",
    "        elif nums[i] + nums[j] < target:\n",
    "            i += 1\n",
    "        else:\n",
    "            return True\n",
    "        \n",
    "    return False"
   ]
  },
  {
   "cell_type": "code",
   "execution_count": 7,
   "id": "da4ea589",
   "metadata": {},
   "outputs": [],
   "source": [
    "assert check_for_target([1, 2, 4, 6, 8, 9, 14, 15], 13) == True"
   ]
  },
  {
   "cell_type": "markdown",
   "id": "0d41d44c",
   "metadata": {},
   "source": [
    "Like in the previous example, this algorithm uses $O(1)$ space and has a time complexity of $O(n)$. This two pointers method works here due to the fact that the array of integers is already sorted in increasing order."
   ]
  },
  {
   "cell_type": "markdown",
   "id": "4abd02bf",
   "metadata": {},
   "source": [
    "## 1.3 Another way to use two pointers"
   ]
  },
  {
   "cell_type": "markdown",
   "id": "ef68e74e",
   "metadata": {},
   "source": [
    "The following method is applicable when the problem has two iterables in the input, for example, two arrays.\n",
    "\n",
    "__Move along both inputs simultaneously until all elements have been checked.__\n",
    "\n",
    "Here's some pseudocode illustrating the concept:"
   ]
  },
  {
   "cell_type": "markdown",
   "id": "3dabed86",
   "metadata": {},
   "source": [
    "```plaintext\n",
    "fn(arr1, arr2):\n",
    "    i = j = 0\n",
    "    while i < arr1.length AND j < arr2.length:\n",
    "        Do some logic here depending on the problem\n",
    "        Do some more logic here to decide on one of the following:\n",
    "            1. i++\n",
    "            2. j++\n",
    "            3. Both i++ and j++\n",
    "\n",
    "    // Step 4: make sure both iterables are exhausted\n",
    "    // Note that only one of these loops would run\n",
    "    while i < arr1.length:\n",
    "        Do some logic here depending on the problem\n",
    "        i++\n",
    "\n",
    "    while j < arr2.length:\n",
    "        Do some logic here depending on the problem\n",
    "        j++\n",
    "        "
   ]
  },
  {
   "cell_type": "markdown",
   "id": "32632bc9",
   "metadata": {},
   "source": [
    "Similar to the first method we looked at, this method will have a linear time complexity of $O(n+m)$ if the work inside the while loop is $O(1)$."
   ]
  },
  {
   "cell_type": "markdown",
   "id": "af376e4e",
   "metadata": {},
   "source": [
    "### Example 3\n",
    "\n",
    "Given two sorted integer arrays __arr1__ and __arr2__, return a new array that combines both of them and is also sorted."
   ]
  },
  {
   "cell_type": "code",
   "execution_count": 10,
   "id": "25c1935b",
   "metadata": {},
   "outputs": [],
   "source": [
    "def combine(arr1, arr2):\n",
    "    i,j = 0,0\n",
    "    combined_sorted_array = []\n",
    "    \n",
    "    while i < len(arr1) and j < len(arr2):\n",
    "        if arr1[i] <= arr2[j]:\n",
    "            combined_sorted_array.append(arr1[i])\n",
    "            i += 1\n",
    "        else:\n",
    "            combined_sorted_array.append(arr2[j])\n",
    "            j += 1\n",
    "            \n",
    "    while i < len(arr1):\n",
    "        combined_sorted_array.append(arr1[i])\n",
    "        i += 1\n",
    "        \n",
    "    while j < len(arr2):\n",
    "        combined_sorted_array.append(arr2[j])\n",
    "        j += 1\n",
    "        \n",
    "    return combined_sorted_array"
   ]
  },
  {
   "cell_type": "code",
   "execution_count": 11,
   "id": "fc6fc150",
   "metadata": {},
   "outputs": [
    {
     "data": {
      "text/plain": [
       "[1, 3, 4, 5, 6, 7, 20]"
      ]
     },
     "execution_count": 11,
     "metadata": {},
     "output_type": "execute_result"
    }
   ],
   "source": [
    "combine([1,4,7,20], [3,5,6])"
   ]
  },
  {
   "cell_type": "markdown",
   "id": "1003f651",
   "metadata": {},
   "source": [
    "### Example 4\n",
    "\n",
    "Given two strings __s__ and __t__, return __true__ if __s__ is a subsequence of __t__, or __false__ otherwise."
   ]
  },
  {
   "cell_type": "code",
   "execution_count": 16,
   "id": "5dd2f471",
   "metadata": {},
   "outputs": [],
   "source": [
    "def isSubsequence(s,t):\n",
    "    i,j = 0,0\n",
    "    \n",
    "    while i < len(s) and j < len(t):\n",
    "        if s[i] == t[j]:\n",
    "            i += 1\n",
    "            j += 1\n",
    "        else:\n",
    "            j += 1\n",
    "            \n",
    "    return i == len(s)"
   ]
  },
  {
   "cell_type": "code",
   "execution_count": 18,
   "id": "e57c2407",
   "metadata": {},
   "outputs": [],
   "source": [
    "assert isSubsequence(\"acd\", \"abcdef\") == True\n",
    "assert isSubsequence(\"adc\", \"abcdef\") == False\n",
    "assert isSubsequence(\"adcsdfgr\", \"abcdef\") == False"
   ]
  },
  {
   "cell_type": "markdown",
   "id": "1a57303f",
   "metadata": {},
   "source": [
    "## Practice Problem 1: Reverse String"
   ]
  },
  {
   "cell_type": "markdown",
   "id": "904fb19a",
   "metadata": {},
   "source": [
    "Write a function that reverses a string. The input string is given as an array of characters __s__. "
   ]
  },
  {
   "cell_type": "code",
   "execution_count": 24,
   "id": "22c389fb",
   "metadata": {},
   "outputs": [],
   "source": [
    "def reverseString(s):\n",
    "    i = 0\n",
    "    j = len(s) - 1\n",
    "    \n",
    "    while i < j:\n",
    "        s[i], s[j] = s[j], s[i]\n",
    "        i += 1\n",
    "        j -= 1\n",
    "    \n",
    "    return s"
   ]
  },
  {
   "cell_type": "code",
   "execution_count": 25,
   "id": "02d03a8c",
   "metadata": {},
   "outputs": [
    {
     "name": "stdout",
     "output_type": "stream",
     "text": [
      "['o', 'l', 'l', 'e', 'H']\n"
     ]
    }
   ],
   "source": [
    "s = ['H', 'e', 'l', 'l', 'o']\n",
    "s = reverseString(['H', 'e', 'l', 'l', 'o'])\n",
    "print(s)"
   ]
  },
  {
   "cell_type": "markdown",
   "id": "f40fb2b3",
   "metadata": {},
   "source": [
    "## Practice Problem 2: Squares of a Sorted Array"
   ]
  },
  {
   "cell_type": "markdown",
   "id": "8fd6ee65",
   "metadata": {},
   "source": [
    "Given an integer array __nums__ sorted in __non-decreasing__ order, return an array of the __squares of each number__ sorted in _non-decreasing order_."
   ]
  },
  {
   "cell_type": "code",
   "execution_count": null,
   "id": "9bc1d592",
   "metadata": {},
   "outputs": [],
   "source": []
  }
 ],
 "metadata": {
  "kernelspec": {
   "display_name": "Python 3",
   "language": "python",
   "name": "python3"
  },
  "language_info": {
   "codemirror_mode": {
    "name": "ipython",
    "version": 3
   },
   "file_extension": ".py",
   "mimetype": "text/x-python",
   "name": "python",
   "nbconvert_exporter": "python",
   "pygments_lexer": "ipython3",
   "version": "3.8.8"
  }
 },
 "nbformat": 4,
 "nbformat_minor": 5
}
